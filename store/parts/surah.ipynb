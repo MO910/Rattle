{
 "cells": [
  {
   "cell_type": "code",
   "execution_count": 1,
   "metadata": {},
   "outputs": [],
   "source": [
    "import json, requests"
   ]
  },
  {
   "cell_type": "markdown",
   "metadata": {},
   "source": [
    "## Clean Surah Object"
   ]
  },
  {
   "cell_type": "code",
   "execution_count": 3,
   "metadata": {},
   "outputs": [],
   "source": [
    "with open('surahAdj.json', 'rb') as file:\n",
    "    f = json.load(file)\n",
    "f = dict(f)"
   ]
  },
  {
   "cell_type": "code",
   "execution_count": 6,
   "metadata": {},
   "outputs": [
    {
     "data": {
      "text/plain": [
       "[{'makkah': False,\n",
       "  'name_simple': 'Al-Fatihah',\n",
       "  'name_arabic': 'الفاتحة',\n",
       "  'verses_count': 7},\n",
       " {'makkah': False,\n",
       "  'name_simple': 'Al-Baqarah',\n",
       "  'name_arabic': 'البقرة',\n",
       "  'verses_count': 286}]"
      ]
     },
     "execution_count": 6,
     "metadata": {},
     "output_type": "execute_result"
    }
   ],
   "source": [
    "newClean = []\n",
    "for ch in f['chapters']:\n",
    "    newClean.append({\n",
    "        'makkah': bool(ch['revelation_place'] == 'makkah'),\n",
    "        'name_simple': ch['name_simple'],\n",
    "        'name_arabic': ch['name_arabic'],\n",
    "        'verses_count': ch['verses_count'],\n",
    "    })\n",
    "newClean = {'chapters': newClean}\n",
    "newClean['chapters'][:2]"
   ]
  },
  {
   "cell_type": "code",
   "execution_count": 7,
   "metadata": {},
   "outputs": [],
   "source": [
    "with open('surahAdj.json', 'w') as file:\n",
    "    json.dump(newClean, file)"
   ]
  },
  {
   "cell_type": "markdown",
   "metadata": {},
   "source": [
    "## Quran Pages"
   ]
  },
  {
   "cell_type": "code",
   "execution_count": 19,
   "metadata": {},
   "outputs": [],
   "source": [
    "all_pages = []\n",
    "for page_num in range(1, 605):\n",
    "    obj = {}\n",
    "    res = requests.get(f'https://api.quran.com/api/v4/verses/by_page/{page_num}')\n",
    "    js = res.json()\n",
    "    for i, v in enumerate(js['verses']):\n",
    "        # print(i, v)\n",
    "        js['verses'][i] = {\n",
    "            'verse_key': v['verse_key'],\n",
    "            'juz_number': v['juz_number'],\n",
    "        }\n",
    "    all_pages.append(js['verses'])\n"
   ]
  },
  {
   "cell_type": "code",
   "execution_count": 21,
   "metadata": {},
   "outputs": [
    {
     "data": {
      "text/plain": [
       "[[{'verse_key': '1:1', 'juz_number': 1},\n",
       "  {'verse_key': '1:2', 'juz_number': 1},\n",
       "  {'verse_key': '1:3', 'juz_number': 1},\n",
       "  {'verse_key': '1:4', 'juz_number': 1},\n",
       "  {'verse_key': '1:5', 'juz_number': 1},\n",
       "  {'verse_key': '1:6', 'juz_number': 1},\n",
       "  {'verse_key': '1:7', 'juz_number': 1}]]"
      ]
     },
     "execution_count": 21,
     "metadata": {},
     "output_type": "execute_result"
    }
   ],
   "source": [
    "all_pages[:1]"
   ]
  },
  {
   "cell_type": "code",
   "execution_count": 22,
   "metadata": {},
   "outputs": [],
   "source": [
    "with open('versesPerPage.json', 'w') as file:\n",
    "    json.dump({\"pages\": all_pages}, file)"
   ]
  }
 ],
 "metadata": {
  "kernelspec": {
   "display_name": "Python 3.9.13 ('base')",
   "language": "python",
   "name": "python3"
  },
  "language_info": {
   "codemirror_mode": {
    "name": "ipython",
    "version": 3
   },
   "file_extension": ".py",
   "mimetype": "text/x-python",
   "name": "python",
   "nbconvert_exporter": "python",
   "pygments_lexer": "ipython3",
   "version": "3.9.13"
  },
  "orig_nbformat": 4,
  "vscode": {
   "interpreter": {
    "hash": "1cca9558bc5ad879ec93cc030b157d75f18267527c60932cecaace349eef54dd"
   }
  }
 },
 "nbformat": 4,
 "nbformat_minor": 2
}
